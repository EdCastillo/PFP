{
 "cells": [
  {
   "cell_type": "markdown",
   "metadata": {
    "id": "rUmYKhh2biyd"
   },
   "source": [
    "![6.png](data:image/png;base64,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)\n",
    "\n",
    "Psicologia de la Toma de Decisiones\n",
    "\n",
    "Profesor: Juan Villalobos Ramirez\n",
    "\n",
    "Alumnos:\n",
    "\n",
    "\n",
    "Maximiliano Esquivel\n",
    "\n",
    "Alejandro Sandoval \n",
    "\n",
    "Karina Castillo\n",
    "\n",
    "Eduardo Castillo <3\n"
   ]
  },
  {
   "cell_type": "markdown",
   "metadata": {
    "id": "NJDssHFocYQ5"
   },
   "source": [
    "# Introduccion"
   ]
  },
  {
   "cell_type": "markdown",
   "metadata": {
    "id": "lO-gteq-cM19"
   },
   "source": [
    "En este caso, se presentan un dataset asociado a clientes que no se presentan a una cita previamente programada. Esto presenta un costo de oportunidad para la organización, ya que se deja de percibir ingreso, mientras que el costo directo de atender esta cita se mantiene. De esta\n",
    "manera, los principales aspectos a atacar son dos:\n",
    "\n",
    "1. Maneras en qué la organización puede reducir es la tasa de ausencia a citas programadas,\n",
    "y de esta manera disminuir esta pérdida.\n",
    "2. Aumentar la ocupación efectiva del personal, de tal manera que la tasa de ocupación sea lo\n",
    "más cercana al 100% de utilización.\n",
    "\n",
    "El que no se presenten tiene un costo para nosotros, por lo tanto importante averiguar dicho valor.\n"
   ]
  },
  {
   "cell_type": "markdown",
   "metadata": {
    "id": "eUAGy5RedTyO"
   },
   "source": [
    "# Desarrollo"
   ]
  },
  {
   "cell_type": "code",
   "execution_count": null,
   "metadata": {
    "id": "S0PhrQtWdY4W"
   },
   "outputs": [],
   "source": [
    "## Importamos Librerias\n",
    "import pandas as pd\n",
    "import numpy as np\n",
    "import seaborn as sns\n",
    "import matplotlib.pyplot as plt\n",
    "from sklearn.linear_model import LinearRegression\n",
    "from sklearn.preprocessing import StandardScaler\n",
    "import tensorflow as tf\n",
    "from sklearn.naive_bayes import GaussianNB\n",
    "from sklearn.ensemble import RandomForestClassifier\n",
    "from sklearn import metrics\n",
    "from keras.models import Sequential\n",
    "from keras.layers import Dense\n",
    "import matplotlib.pyplot as plt\n",
    "from sklearn.metrics import (\n",
    "    accuracy_score,\n",
    "    confusion_matrix,\n",
    "    ConfusionMatrixDisplay,\n",
    "    f1_score,\n",
    "    classification_report,\n",
    ")\n",
    "%matplotlib inline\n"
   ]
  },
  {
   "cell_type": "code",
   "execution_count": null,
   "metadata": {},
   "outputs": [],
   "source": [
    "#config settings\n",
    "\n",
    "# options: gauss,nn,randomForest\n",
    "modelName=\"nn\"\n",
    "\n"
   ]
  },
  {
   "cell_type": "code",
   "execution_count": null,
   "metadata": {
    "colab": {
     "base_uri": "https://localhost:8080/",
     "height": 235
    },
    "id": "ZgxZK4qLeW8U",
    "outputId": "2136c901-3444-42f9-a48a-f8c6a27bf19e"
   },
   "outputs": [],
   "source": [
    "## Definimos el Dataframe\n",
    "\n",
    "df_citas = pd.read_csv('medical_no_show.csv')\n",
    "df_citas.head()"
   ]
  },
  {
   "cell_type": "code",
   "execution_count": null,
   "metadata": {
    "id": "tgLABy5OwlGS"
   },
   "outputs": [],
   "source": [
    "#from google.colab import drive\n",
    "#drive.mount('/content/drive')"
   ]
  },
  {
   "cell_type": "code",
   "execution_count": null,
   "metadata": {
    "colab": {
     "base_uri": "https://localhost:8080/"
    },
    "id": "laEd69sqhca3",
    "outputId": "6ca049f8-fc6b-481c-f2b9-b81319a8cb9b"
   },
   "outputs": [],
   "source": [
    "# Buscamos datos faltantes/nulos\n",
    "df_citas.isnull().sum()"
   ]
  },
  {
   "cell_type": "code",
   "execution_count": null,
   "metadata": {
    "colab": {
     "base_uri": "https://localhost:8080/",
     "height": 300
    },
    "id": "mjteyUpticMH",
    "outputId": "b078dcde-1102-4d68-a863-abd0f7ce0b22"
   },
   "outputs": [],
   "source": [
    "# Sacamos los datos estadisticos basicos de todas las variables\n",
    "df_citas.describe()"
   ]
  },
  {
   "cell_type": "markdown",
   "metadata": {
    "id": "BPLNXMjSmTGA"
   },
   "source": [
    "Revisar \n",
    "\n",
    "Scholarship \t\n",
    "Hipertension \t\n",
    "Diabetes \t\n",
    "Alcoholism \t\n",
    "Handcap \t\n",
    "SMS_received"
   ]
  },
  {
   "cell_type": "code",
   "execution_count": null,
   "metadata": {
    "colab": {
     "base_uri": "https://localhost:8080/"
    },
    "id": "WFEYHneSicIv",
    "outputId": "4af30a52-e62e-4fb6-f7cc-377f211f2113"
   },
   "outputs": [],
   "source": [
    "# Revisamos el formato de todas las variables\n",
    "df_citas.info()\n"
   ]
  },
  {
   "cell_type": "code",
   "execution_count": null,
   "metadata": {
    "colab": {
     "base_uri": "https://localhost:8080/"
    },
    "id": "eeMvEOiSpq_N",
    "outputId": "f5909971-2825-4728-a1d6-3baebccfbc7d"
   },
   "outputs": [],
   "source": [
    "## Contamos valores en columnas\n",
    "for i in df_citas.columns:\n",
    "\n",
    "  print(f'Column name: {i}\\n')\n",
    "  print(round(100*df_citas[i].value_counts()/len(df_citas)),0)\n",
    "  print('----------')"
   ]
  },
  {
   "cell_type": "markdown",
   "metadata": {
    "id": "zVWv_dOMQ4J4"
   },
   "source": [
    "Revición de  duplicados de los datos de PatientId "
   ]
  },
  {
   "cell_type": "code",
   "execution_count": null,
   "metadata": {
    "colab": {
     "base_uri": "https://localhost:8080/"
    },
    "id": "pLYz_cs9KKwz",
    "outputId": "d648c042-ee11-4042-cc5f-08810e5084b1"
   },
   "outputs": [],
   "source": [
    "df_dup = pd.DataFrame(df_citas)\n",
    "df_dup\n",
    "\n",
    "df_dup.duplicated()"
   ]
  },
  {
   "cell_type": "code",
   "execution_count": null,
   "metadata": {
    "colab": {
     "base_uri": "https://localhost:8080/"
    },
    "id": "B7mgiieJORwT",
    "outputId": "86cdbf8b-82f1-4885-a16f-a33ec15afa17"
   },
   "outputs": [],
   "source": [
    "df_dup.duplicated().sum()"
   ]
  },
  {
   "cell_type": "markdown",
   "metadata": {
    "id": "9hAROSt5fj16"
   },
   "source": [
    "**Cambio de Formatos**"
   ]
  },
  {
   "cell_type": "code",
   "execution_count": null,
   "metadata": {
    "id": "_eQEQsgGRR_S"
   },
   "outputs": [],
   "source": [
    "#Formato de ScheduleDay y AppointmentDay a datetime\n",
    "#convertimos valores a fecha\n",
    "from datetime import datetime\n",
    "\n",
    "DateAppointmentDay = df_citas['AppointmentDay'] = pd.to_datetime(df_citas['AppointmentDay'])\n",
    "DateScheduledDay = df_citas['ScheduledDay'] = pd.to_datetime(df_citas['ScheduledDay'])\n"
   ]
  },
  {
   "cell_type": "code",
   "execution_count": null,
   "metadata": {
    "id": "KzUV-ibvVMLa"
   },
   "outputs": [],
   "source": [
    "#Formato de Gender, de object a int\n",
    "Gender = {'M': 1,'F': 0}\n",
    "df_citas.Gender = [Gender[item] for item in df_citas.Gender]\n"
   ]
  },
  {
   "cell_type": "code",
   "execution_count": null,
   "metadata": {
    "id": "dPF5r27OaS1V"
   },
   "outputs": [],
   "source": [
    "#Formato de No Show de Object a Int\n",
    "df_citas.rename(columns = {'No-show':'Noshow'}, inplace = True)\n",
    "\n",
    "Noshow = {'Yes': 1,'No': 0}\n",
    "df_citas.Noshow = [Noshow[item] for item in df_citas.Noshow]"
   ]
  },
  {
   "cell_type": "code",
   "execution_count": null,
   "metadata": {
    "colab": {
     "base_uri": "https://localhost:8080/"
    },
    "id": "1Z5cy_ZrVSro",
    "outputId": "051b82de-5a2b-4dc7-83da-102c8de982cd"
   },
   "outputs": [],
   "source": [
    "df_citas.info()"
   ]
  },
  {
   "cell_type": "code",
   "execution_count": null,
   "metadata": {
    "colab": {
     "base_uri": "https://localhost:8080/"
    },
    "id": "8YX3Nk0QZve2",
    "outputId": "ee47ee66-cafa-4203-8de7-51421e76d77d"
   },
   "outputs": [],
   "source": [
    "#Generamos variable de dias de diferencia e imprimimos \n",
    "DaysDiff = DateAppointmentDay - DateScheduledDay\n",
    "print(DaysDiff)"
   ]
  },
  {
   "cell_type": "code",
   "execution_count": null,
   "metadata": {
    "colab": {
     "base_uri": "https://localhost:8080/",
     "height": 574
    },
    "id": "BLhh0aXYL8Ig",
    "outputId": "d961a5e2-e6f9-4321-8b50-2b9ccbbf6831"
   },
   "outputs": [],
   "source": [
    "df_citas['DaysDiff'] = DaysDiff.dt.days\n",
    "\n",
    "df_citas"
   ]
  },
  {
   "cell_type": "code",
   "execution_count": null,
   "metadata": {
    "colab": {
     "base_uri": "https://localhost:8080/"
    },
    "id": "GvYGiGKfPLJG",
    "outputId": "cd5f8d00-13d4-422d-e088-15c7fafa719b"
   },
   "outputs": [],
   "source": [
    "100*df_citas.Neighbourhood.value_counts().head(30)/len(df_citas)"
   ]
  },
  {
   "cell_type": "code",
   "execution_count": null,
   "metadata": {
    "colab": {
     "base_uri": "https://localhost:8080/"
    },
    "id": "K0STdjQoWSyC",
    "outputId": "3adf6969-f167-4d9e-c966-8976c8bf22f0"
   },
   "outputs": [],
   "source": [
    "# Value Counts de la columna Neighbourhood\n",
    "df_citas.Neighbourhood.value_counts()"
   ]
  },
  {
   "cell_type": "code",
   "execution_count": null,
   "metadata": {
    "id": "ixmUxtsXpoAA"
   },
   "outputs": [],
   "source": [
    "#Diccionario que asocie cada barrio con su estado correspondiente\n",
    "barrios_estados = {\n",
    "    'JARDIM CAMBURI' : 'Espirito Santo', \n",
    "    'MARIA ORTIZ' : 'Espirito Santo', \n",
    "    'RESISTÊNCIA' : 'Espirito Santo', \n",
    "    'JARDIM DA PENHA' : 'Espirito Santo', \n",
    "    'TABUAZEIRO' : 'Espirito Santo', \n",
    "    'JESUS DE NAZARETH' : 'Espirito Santo',\n",
    "    'CARATOÍRA' : 'Espirito Santo', \n",
    "    'ILHA DO PRÍNCIPE' : 'Espirito Santo', \n",
    "    'NOVA PALESTINA' : 'Espirito Santo', \n",
    "    'GURIGICA' : 'Espirito Santo', \n",
    "    'MARUÍPE' : 'Espirito Santo', \n",
    "    'FORTE SÃO JOÃO' : 'Espirito Santo', \n",
    "    'ILHA DE SANTA MARIA' : 'Espirito Santo', \n",
    "    'PRAIA DO SUÁ' : 'Espirito Santo', \n",
    "    'ILHA DAS CAIEIRAS' : 'Espirito Santo', \n",
    "    'GRANDE VITÓRIA' : 'Espirito Santo', \n",
    "    'FONTE GRANDE' : 'Espirito Santo', \n",
    "    'MATA DA PRAIA' : 'Espirito Santo', \n",
    "    'ILHAS OCEÂNICAS DE TRINDADE' : 'Espirito Santo',\n",
    "    'DO CABRAL' : 'Espirito Santo', \n",
    "    'ESTRELINHA' : 'Espirito Santo', \n",
    "    'SOLON BORGES' : 'Espirito Santo', \n",
    "    'SEGURANÇA DO LAR' : 'Espirito Santo', \n",
    "    'MORADA DE CAMBURI' : 'Espirito Santo', \n",
    "    'PONTAL DE CAMBURI' : 'Espirito Santo',\n",
    "    'ILHA DO BOI' : 'Espirito Santo', \n",
    "    'ILHA DO FRADE'  : 'Espirito Santo',\n",
    "    'DO MOSCOSO'  : 'Espirito Santo', \n",
    "    'MÁRIO CYPRESTE'  : 'Espirito Santo', \n",
    "    'COMDUSA'  : 'Espirito Santo', \n",
    "    'ARIOVALDO FAVALESSA'  : 'Espirito Santo', \n",
    "    'ANTÔNIO HONÓRIO'  : 'Espirito Santo', \n",
    "    'FRADINHOS'  : 'Espirito Santo', \n",
    "    'ENSEADA DO SUÁ'  : 'Espirito Santo',\n",
    "    'INHANGUETÁ' : 'Espirito Santo', \n",
    "    'BENTO FERREIRA' : 'Espirito Santo', \n",
    "    'VILA RUBIM' : 'Espirito Santo', \n",
    "    'PARQUE MOSCOSO' : 'Espirito Santo', \n",
    "    'GOIABEIRAS' : 'Espirito Santo', \n",
    "    'JUCUTUQUARA' : 'Espirito Santo', \n",
    "    'ITARARÉ' : 'São Paulo', \n",
    "    'SANTO ANDRÉ' : 'São Paulo', \n",
    "    'SÃO PEDRO' : 'São Paulo', \n",
    "    'DO QUADRO' : 'São Paulo', \n",
    "    'REPÚBLICA' : 'São Paulo', \n",
    "    'PIEDADE' : 'São Paulo', \n",
    "    'DE LOURDES' : 'São Paulo', \n",
    "    'AEROPORTO' : 'São Paulo',\n",
    "    'SÃO CRISTÓVÃO' : 'Sergipe', \n",
    "    'CENTRO' : 'Río de Janeiro', \n",
    "    'JABOUR' : 'Río de Janeiro', \n",
    "    'DA PENHA' : 'Río de Janeiro', \n",
    "    'SANTA TEREZA' : 'Río de Janeiro', \n",
    "    'PRAIA DO CANTO' : 'Río de Janeiro', \n",
    "    'BARRO VERMELHO' : 'Río de Janeiro', \n",
    "    'HORTO' : 'Río de Janeiro',\n",
    "    'SANTA MARTHA' : 'Santa Catarina', \n",
    "    'SÃO JOSÉ' : 'Santa Catarina', \n",
    "    'SANTA CECÍLIA' : 'Santa Catarina', \n",
    "    'PARQUE INDUSTRIAL' : 'Santa Catarina',\n",
    "    'BONFIM' : 'Roraima', \n",
    "    'BOA VISTA' : 'Roraima', \n",
    "    'SANTO ANTÔNIO' : 'Bahía', \n",
    "    'SANTA LUÍZA' : 'Bahía',\n",
    "    'ANDORINHAS' : 'Pará', \n",
    "    'NAZARETH' : 'Pará', \n",
    "    'ROMÃO' : 'Minas Gerais', \n",
    "    'CONSOLAÇÃO' : 'Minas Gerais', \n",
    "    'SANTOS DUMONT' : 'Minas Gerais', \n",
    "    'CONQUISTA' : 'Minas Gerais', \n",
    "    'MONTE BELO' : 'Minas Gerais',\n",
    "    'BELA VISTA' : 'Mato Grosso', \n",
    "    'JOANA D´ARC' : 'Mato Grosso', \n",
    "    'REDENÇÃO' : 'Ceará', \n",
    "    'SÃO BENEDITO' : 'Ceará', \n",
    "    'CRUZAMENTO' : 'Río Grande do Norte', \n",
    "    'SANTOS REIS' : 'Paraná', \n",
    "    'SANTA LÚCIA' : 'Paraná', \n",
    "    'SANTA HELENA' : 'Paraná',\n",
    "    'SANTA CLARA' : 'Río Grande del Sur', \n",
    "    'UNIVERSITÁRIO'  : 'Río Grande del Sur'\n",
    "} "
   ]
  },
  {
   "cell_type": "code",
   "execution_count": null,
   "metadata": {
    "colab": {
     "base_uri": "https://localhost:8080/"
    },
    "id": "J21uYdP-pxmI",
    "outputId": "4314aab0-20d1-4e0b-d267-723e7e73add1"
   },
   "outputs": [],
   "source": [
    "df_citas['Estado'] = df_citas['Neighbourhood'].map(barrios_estados)\n",
    "df_citas.Estado.value_counts()"
   ]
  },
  {
   "cell_type": "code",
   "execution_count": null,
   "metadata": {
    "id": "xB8fb-D6uKFK"
   },
   "outputs": [],
   "source": [
    "#Diccionario que asocie el estado con un número\n",
    "estado_numero = {\n",
    "    'Espirito Santo' : 1,\n",
    "    'Río de Janeiro' : 2,\n",
    "    'Minas Gerais ' : 3,           \n",
    "    'Santa Catarina' : 4,   \n",
    "    'Mato Grosso' : 5,           \n",
    "    'Bahía' : 6,       \n",
    "    'Roraima' : 7,            \n",
    "    'Ceará' : 8,          \n",
    "    'Pará' : 9,              \n",
    "    'Sergipe' : 10,              \n",
    "    'Río Grande do Norte' : 11,    \n",
    "    'Paraná' : 12,\n",
    "    'Río Grande del Sur' : 13\n",
    "}"
   ]
  },
  {
   "cell_type": "code",
   "execution_count": null,
   "metadata": {
    "colab": {
     "base_uri": "https://localhost:8080/"
    },
    "id": "EotbGiZ3xsYz",
    "outputId": "13ba3aef-4038-4908-bd3e-704cda8b36f2"
   },
   "outputs": [],
   "source": [
    "df_citas['estado_numero']= df_citas['Estado'].map(estado_numero)\n",
    "df_citas.estado_numero.value_counts()"
   ]
  },
  {
   "cell_type": "code",
   "execution_count": null,
   "metadata": {
    "id": "_XmXGdmLj_gD"
   },
   "outputs": [],
   "source": [
    "PROVINCE = df_citas.replace({'Neighbourhood':{'JARDIM CAMBURI' : 'Espirito Santo', 'MARIA ORTIZ' : 'Espirito Santo', 'RESISTÊNCIA' : 'Espirito Santo', 'JARDIM DA PENHA' : 'Espirito Santo', 'TABUAZEIRO' : 'Espirito Santo', 'JESUS DE NAZARETH' : 'Espirito Santo', \n",
    "                                              'CARATOÍRA' : 'Espirito Santo', 'ILHA DO PRÍNCIPE' : 'Espirito Santo', 'NOVA PALESTINA' : 'Espirito Santo', 'GURIGICA' : 'Espirito Santo', 'MARUÍPE' : 'Espirito Santo', 'FORTE SÃO JOÃO' : 'Espirito Santo', \n",
    "                                              'ILHA DE SANTA MARIA' : 'Espirito Santo', 'PRAIA DO SUÁ' : 'Espirito Santo', 'ILHA DAS CAIEIRAS' : 'Espirito Santo', 'GRANDE VITÓRIA' : 'Espirito Santo', 'FONTE GRANDE' : 'Espirito Santo', 'MATA DA PRAIA' : 'Espirito Santo', 'ILHAS OCEÂNICAS DE TRINDADE' : 'Espirito Santo',\n",
    "                                              'DO CABRAL' : 'Espirito Santo', 'ESTRELINHA' : 'Espirito Santo', 'SOLON BORGES' : 'Espirito Santo', 'SEGURANÇA DO LAR' : 'Espirito Santo', 'MORADA DE CAMBURI' : 'Espirito Santo', 'PONTAL DE CAMBURI' : 'Espirito Santo', 'ILHA DO BOI' : 'Espirito Santo', \n",
    "                                              'ILHA DO FRADE'  : 'Espirito Santo','DO MOSCOSO'  : 'Espirito Santo', 'MÁRIO CYPRESTE'  : 'Espirito Santo', 'COMDUSA'  : 'Espirito Santo', 'ARIOVALDO FAVALESSA'  : 'Espirito Santo', 'ANTÔNIO HONÓRIO'  : 'Espirito Santo', 'FRADINHOS'  : 'Espirito Santo', 'ENSEADA DO SUÁ'  : 'Espirito Santo',\n",
    "                                              'INHANGUETÁ' : 'Espirito Santo', 'BENTO FERREIRA' : 'Espirito Santo', 'VILA RUBIM' : 'Espirito Santo', 'PARQUE MOSCOSO' : 'Espirito Santo', 'GOIABEIRAS' : 'Espirito Santo', 'JUCUTUQUARA' : 'Espirito Santo', \n",
    "                                              'ITARARÉ' : 'São Paulo', 'SANTO ANDRÉ' : 'São Paulo', 'SÃO PEDRO' : 'São Paulo', 'DO QUADRO' : 'São Paulo', 'REPÚBLICA' : 'São Paulo', 'PIEDADE' : 'São Paulo', 'DE LOURDES' : 'São Paulo', 'AEROPORTO' : 'São Paulo',\n",
    "                                              'SÃO CRISTÓVÃO' : 'Sergipe', \n",
    "                                              'CENTRO' : 'Río de Janeiro', 'JABOUR' : 'Río de Janeiro', 'DA PENHA' : 'Río de Janeiro', 'SANTA TEREZA' : 'Río de Janeiro', 'PRAIA DO CANTO' : 'Río de Janeiro', 'BARRO VERMELHO' : 'Río de Janeiro', 'HORTO' : 'Río de Janeiro',\n",
    "                                              'SANTA MARTHA' : 'Santa Catarina', 'SÃO JOSÉ' : 'Santa Catarina', 'SANTA CECÍLIA' : 'Santa Catarina', 'PARQUE INDUSTRIAL' : 'Santa Catarina',\n",
    "                                              'BONFIM' : 'Roraima', 'BOA VISTA' : 'Roraima', \n",
    "                                              'SANTO ANTÔNIO' : 'Bahía', 'SANTA LUÍZA' : 'Bahía',\n",
    "                                              'ANDORINHAS' : 'Pará', 'NAZARETH' : 'Pará', \n",
    "                                              'ROMÃO' : 'Minas Gerais', 'CONSOLAÇÃO' : 'Minas Gerais', 'SANTOS DUMONT' : 'Minas Gerais', 'CONQUISTA' : 'Minas Gerais', 'MONTE BELO' : 'Minas Gerais',\n",
    "                                              'BELA VISTA' : 'Mato Grosso', 'JOANA D´ARC' : 'Mato Grosso', \n",
    "                                              'REDENÇÃO' : 'Ceará', 'SÃO BENEDITO' : 'Ceará', \n",
    "                                              'CRUZAMENTO' : 'Río Grande do Norte', \n",
    "                                              'SANTOS REIS' : 'Paraná', 'SANTA LÚCIA' : 'Paraná', 'SANTA HELENA' : 'Paraná',\n",
    "                                              'SANTA CLARA' : 'Río Grande del Sur', 'UNIVERSITÁRIO'  : 'Río Grande del Sur',\n",
    "                                               }})"
   ]
  },
  {
   "cell_type": "code",
   "execution_count": null,
   "metadata": {
    "colab": {
     "base_uri": "https://localhost:8080/"
    },
    "id": "Tacl_U-UcFIN",
    "outputId": "16c3c61c-6445-44c2-cbaa-1931ee99f5d0"
   },
   "outputs": [],
   "source": [
    "# Check de la correcta asignacion\n",
    "PROVINCE.Neighbourhood.value_counts()"
   ]
  },
  {
   "cell_type": "code",
   "execution_count": null,
   "metadata": {
    "colab": {
     "base_uri": "https://localhost:8080/",
     "height": 661
    },
    "id": "0YBQ-rbCVmtE",
    "outputId": "6775f6b0-4905-4266-fbc2-3d5c543c23cf"
   },
   "outputs": [],
   "source": [
    "\n",
    "df_citas "
   ]
  },
  {
   "cell_type": "markdown",
   "metadata": {
    "id": "Nh4MXZdVgVES"
   },
   "source": [
    "**Análisis Estadístico**"
   ]
  },
  {
   "cell_type": "code",
   "execution_count": null,
   "metadata": {
    "colab": {
     "base_uri": "https://localhost:8080/",
     "height": 457
    },
    "id": "iQTKDqWjgPfQ",
    "outputId": "d6f933b2-4c38-4ff9-cac7-5735d3956419"
   },
   "outputs": [],
   "source": [
    "df_citas.describe().T"
   ]
  },
  {
   "cell_type": "code",
   "execution_count": null,
   "metadata": {
    "colab": {
     "base_uri": "https://localhost:8080/",
     "height": 521
    },
    "id": "4Uj-4aIFi9pn",
    "outputId": "13697687-58fe-4a5c-e198-031ac6e01ab8"
   },
   "outputs": [],
   "source": [
    "# Realizamos el analisis de la Correlacion de las variables\n",
    "df_corr = df_citas.corr()\n",
    "df_corr"
   ]
  },
  {
   "cell_type": "code",
   "execution_count": null,
   "metadata": {
    "colab": {
     "base_uri": "https://localhost:8080/",
     "height": 450
    },
    "id": "PfD8bR8seobN",
    "outputId": "ffb26eb9-738b-45a4-97dc-9ef7a76b6021"
   },
   "outputs": [],
   "source": [
    "#Boxplot\n",
    "df_citas[['Age']].boxplot()\n"
   ]
  },
  {
   "cell_type": "code",
   "execution_count": null,
   "metadata": {
    "id": "AD_d99BRfIlY"
   },
   "outputs": [],
   "source": [
    "#Boxplot\n",
    "#df_citas[['DaysDiff']].boxplot()"
   ]
  },
  {
   "cell_type": "code",
   "execution_count": null,
   "metadata": {
    "colab": {
     "base_uri": "https://localhost:8080/",
     "height": 447
    },
    "id": "4B4AlDbih0Cb",
    "outputId": "cb020274-fb59-4e81-c01c-a25b60b96d2a"
   },
   "outputs": [],
   "source": [
    "df_citas['Noshow'].hist()"
   ]
  },
  {
   "cell_type": "code",
   "execution_count": null,
   "metadata": {
    "colab": {
     "base_uri": "https://localhost:8080/"
    },
    "id": "AEG-I9aapEMj",
    "outputId": "bfa9b6c3-d483-442d-8b6f-5db12ed7dcc9"
   },
   "outputs": [],
   "source": [
    "df_citas['Scholarship'].value_counts(normalize=True).mul(100).round(1).astype(str) + '%'"
   ]
  },
  {
   "cell_type": "code",
   "execution_count": null,
   "metadata": {
    "colab": {
     "base_uri": "https://localhost:8080/"
    },
    "id": "dPH4cK0Kp-Bg",
    "outputId": "04da60b2-cf18-4014-dc98-d9de503c4fb7"
   },
   "outputs": [],
   "source": [
    "df_citas['Hipertension'].value_counts(normalize=True).mul(100).round(1).astype(str) + '%'"
   ]
  },
  {
   "cell_type": "code",
   "execution_count": null,
   "metadata": {
    "colab": {
     "base_uri": "https://localhost:8080/"
    },
    "id": "igGKmBOaqU30",
    "outputId": "c4a9080d-b2e4-4531-8fe5-cb0a8846786d"
   },
   "outputs": [],
   "source": [
    "df_citas['Diabetes'].value_counts(normalize=True).mul(100).round(1).astype(str) + '%'"
   ]
  },
  {
   "cell_type": "code",
   "execution_count": null,
   "metadata": {
    "colab": {
     "base_uri": "https://localhost:8080/"
    },
    "id": "y_28ez0Tq-Wj",
    "outputId": "57a1d089-c3d7-4e4c-f52b-090e13378f01"
   },
   "outputs": [],
   "source": [
    "# CHAOOOOOOOOOOOOOOOOOOOOOOOOOOOOOOOOOOO\n",
    "df_citas['Alcoholism'].value_counts(normalize=True).mul(100).round(1).astype(str) + '%'"
   ]
  },
  {
   "cell_type": "code",
   "execution_count": null,
   "metadata": {
    "colab": {
     "base_uri": "https://localhost:8080/"
    },
    "id": "Vr9f-VpirSYN",
    "outputId": "1431768e-1da7-4b13-cc83-0c0bc6c419ad"
   },
   "outputs": [],
   "source": [
    "# CHAOOOOOOOOOOOOOOOOOOOOOOOOOOOOOOOOOOOOOOOOOOOOOO\n",
    "df_citas['Handcap'].value_counts(normalize=True).mul(100).round(1).astype(str) + '%'"
   ]
  },
  {
   "cell_type": "code",
   "execution_count": null,
   "metadata": {
    "colab": {
     "base_uri": "https://localhost:8080/"
    },
    "id": "38_kGZQCrf2F",
    "outputId": "76b0501b-f2d9-4b1b-f216-9ef2845907ff"
   },
   "outputs": [],
   "source": [
    "df_citas['SMS_received'].value_counts(normalize=True).mul(100).round(1).astype(str) + '%'"
   ]
  },
  {
   "cell_type": "code",
   "execution_count": null,
   "metadata": {
    "colab": {
     "base_uri": "https://localhost:8080/"
    },
    "id": "wNFwD9Mqrtxx",
    "outputId": "d54305dd-310d-4222-f5c3-1456fe37d7cb"
   },
   "outputs": [],
   "source": [
    "df_citas['Noshow'].value_counts(normalize=True).mul(100).round(1).astype(str) + '%'"
   ]
  },
  {
   "cell_type": "code",
   "execution_count": null,
   "metadata": {
    "colab": {
     "base_uri": "https://localhost:8080/",
     "height": 447
    },
    "id": "qY69VZgMvmxg",
    "outputId": "3fcd9f92-7db2-4f4b-e096-d9575edc9d64"
   },
   "outputs": [],
   "source": [
    "df_citas['Age'].hist()"
   ]
  },
  {
   "cell_type": "code",
   "execution_count": null,
   "metadata": {
    "id": "hF3BTebxCXts"
   },
   "outputs": [],
   "source": []
  },
  {
   "cell_type": "code",
   "execution_count": null,
   "metadata": {
    "colab": {
     "base_uri": "https://localhost:8080/",
     "height": 621
    },
    "id": "WuZX5PbxjCuJ",
    "outputId": "2cb65814-b3b8-44b0-bac1-f962ba06d8f9"
   },
   "outputs": [],
   "source": [
    "# Graficamos la Correlacion de las variables\n",
    "plt.figure(figsize=(12,6))\n",
    "sns.heatmap(df_corr,annot=True,cmap=\"coolwarm\"); \n"
   ]
  },
  {
   "cell_type": "code",
   "execution_count": null,
   "metadata": {
    "colab": {
     "base_uri": "https://localhost:8080/",
     "height": 661
    },
    "id": "zOZZ16AUXY-_",
    "outputId": "5673d2c4-37d0-4eec-9613-500fa68cc2aa"
   },
   "outputs": [],
   "source": [
    "df_citas"
   ]
  },
  {
   "cell_type": "code",
   "execution_count": null,
   "metadata": {
    "colab": {
     "base_uri": "https://localhost:8080/",
     "height": 661
    },
    "id": "JxboekcjlC3Y",
    "outputId": "14996d79-fe50-4646-cf51-7bdd6702e85b"
   },
   "outputs": [],
   "source": [
    "#Se eliminan las columnas inecesarias ya que cuentan con un 90% de datos en 0 \n",
    "df_citas.drop(['Diabetes','Alcoholism','Handcap'], axis = 1)"
   ]
  },
  {
   "cell_type": "code",
   "execution_count": null,
   "metadata": {
    "id": "XdiSsaxZlFPR"
   },
   "outputs": [],
   "source": [
    "#Instanciamos el modelo\n",
    "##lm = LinearRegression(fit_intercept=True, normalize=True)"
   ]
  },
  {
   "cell_type": "code",
   "execution_count": null,
   "metadata": {
    "colab": {
     "base_uri": "https://localhost:8080/"
    },
    "id": "j6uHP6tclI6b",
    "outputId": "6d2ddced-d95d-4dea-d989-efbc4f72fbb5"
   },
   "outputs": [],
   "source": [
    "df_citas.shape "
   ]
  },
  {
   "cell_type": "code",
   "execution_count": null,
   "metadata": {
    "colab": {
     "base_uri": "https://localhost:8080/"
    },
    "id": "V8f3pg9NlLiu",
    "outputId": "3c42b18c-9ef6-48f2-d3e7-c544ad313f57"
   },
   "outputs": [],
   "source": [
    "#wrong filter\n",
    "#finalDf = df_citas[['PatientId', 'AppointmentID','Gender','Age','Scholarship','Hipertension','SMS_received','DaysDiff','Noshow']]\n",
    "\n",
    "finalDf=df_citas[['Gender','Age','Scholarship','Hipertension','SMS_received','DaysDiff','Noshow']]\n",
    "#Separate train and testing\n",
    "totalRows=110527\n",
    "testRate=0.2\n",
    "\n",
    "test=finalDf.tail(int(totalRows*testRate))\n",
    "train=finalDf.head(int(totalRows*(1-testRate)))\n",
    "\n",
    "train_x=train.drop(columns=['Noshow'])\n",
    "train_y=train.Noshow\n",
    "\n",
    "test_x=test.drop(columns=['Noshow'])\n",
    "test_y=test.Noshow\n"
   ]
  },
  {
   "cell_type": "code",
   "execution_count": null,
   "metadata": {},
   "outputs": [],
   "source": [
    "#Neural network setup\n",
    "def compileNeuralNetwork(train_x,train_y):\n",
    "    model = tf.keras.models.Sequential([\n",
    "    tf.keras.layers.Dense(64, activation='relu',input_dim=6,),\n",
    "    tf.keras.layers.Dense(32, activation='relu'),\n",
    "    tf.keras.layers.Dense(1, activation='sigmoid')\n",
    "    ])\n",
    "    model.compile(loss='binary_crossentropy', optimizer='adam', metrics=['accuracy'])\n",
    "    model.fit(train_x, train_y, epochs=3, batch_size=32)\n",
    "    return model\n",
    "\n",
    "\n",
    "#confusion Matrix logic\n",
    "def showConfusionMatrix(input_1,input_2):\n",
    "    confusion_matrix = metrics.confusion_matrix(input_1,input_2)\n",
    "    cm_display = metrics.ConfusionMatrixDisplay(confusion_matrix = confusion_matrix, display_labels = [False, True])\n",
    "    cm_display.plot()\n",
    "    plt.show()\n",
    "    \n",
    "#normalize result\n",
    "def convertNormalize(result):\n",
    "    tempConvert=[]\n",
    "    for i in result:\n",
    "        if(isinstance(i,int)):\n",
    "            tempConvert.append(int(i))\n",
    "        else:\n",
    "            b=float(i)\n",
    "            if(b>0.5):\n",
    "                print(b)\n",
    "            tempConvert.append(int(round(b)))\n",
    "    return tempConvert"
   ]
  },
  {
   "cell_type": "code",
   "execution_count": null,
   "metadata": {},
   "outputs": [],
   "source": [
    "#compile model from config\n",
    "if(modelName==\"nn\"):\n",
    "    model=compileNeuralNetwork(train_x,train_y)\n",
    "else:\n",
    "    if(modelName==\"gauss\"):\n",
    "        model = GaussianNB()\n",
    "    if(modelName==\"randomForest\"):\n",
    "        model=RandomForestClassifier()\n",
    "    model.fit(train_x, train_y)"
   ]
  },
  {
   "cell_type": "code",
   "execution_count": null,
   "metadata": {},
   "outputs": [],
   "source": [
    "rawResult=model.predict(test_x)\n",
    "result=convertNormalize(rawResult)\n",
    "showConfusionMatrix(test_y,result)"
   ]
  },
  {
   "cell_type": "code",
   "execution_count": null,
   "metadata": {},
   "outputs": [],
   "source": [
    "#metrics\n",
    "accuracy=accuracy_score(result,test_y)\n",
    "f1=f1_score(test_y,result,average=\"weighted\")"
   ]
  },
  {
   "cell_type": "code",
   "execution_count": null,
   "metadata": {},
   "outputs": [],
   "source": [
    "accuracy"
   ]
  },
  {
   "cell_type": "code",
   "execution_count": null,
   "metadata": {},
   "outputs": [],
   "source": [
    "f1"
   ]
  },
  {
   "cell_type": "markdown",
   "metadata": {},
   "source": [
    "# Results\n"
   ]
  },
  {
   "cell_type": "markdown",
   "metadata": {},
   "source": [
    "### Gaussian\n",
    "\n",
    "Accuracy 0.7808\n",
    "\n",
    "\n",
    "F1 0.7476\n",
    "\n",
    "### RandomForest\n",
    "\n",
    "Accuracy 0.7715\n",
    "\n",
    "\n",
    "F1 0.7437\n",
    "\n",
    "### Neural Network\n",
    "\n",
    "Accuracy 0.8106\n",
    "\n",
    "\n",
    "F1 0.7264"
   ]
  },
  {
   "cell_type": "code",
   "execution_count": null,
   "metadata": {},
   "outputs": [],
   "source": []
  },
  {
   "cell_type": "code",
   "execution_count": null,
   "metadata": {},
   "outputs": [],
   "source": []
  }
 ],
 "metadata": {
  "colab": {
   "provenance": []
  },
  "kernelspec": {
   "display_name": "Python 3 (ipykernel)",
   "language": "python",
   "name": "python3"
  },
  "language_info": {
   "codemirror_mode": {
    "name": "ipython",
    "version": 3
   },
   "file_extension": ".py",
   "mimetype": "text/x-python",
   "name": "python",
   "nbconvert_exporter": "python",
   "pygments_lexer": "ipython3",
   "version": "3.10.4"
  }
 },
 "nbformat": 4,
 "nbformat_minor": 1
}
